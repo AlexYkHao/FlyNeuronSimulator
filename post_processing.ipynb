{
 "cells": [
  {
   "cell_type": "code",
   "execution_count": 1,
   "metadata": {},
   "outputs": [],
   "source": [
    "import os\n",
    "import re\n",
    "import glob\n",
    "import pickle\n",
    "\n",
    "import numpy as np\n",
    "import pandas as pd\n",
    "import matplotlib.pyplot as plt\n",
    "\n",
    "from utils import get_decay_delay, plot_bars_with_scatter, sample_v_traces"
   ]
  },
  {
   "cell_type": "markdown",
   "metadata": {},
   "source": [
    "## Effects of injection duration"
   ]
  },
  {
   "cell_type": "code",
   "execution_count": 2,
   "metadata": {},
   "outputs": [],
   "source": [
    "pickle_list = glob.glob('test_dataset/Duration_LC14_21001_results_injection*.pkl')\n",
    "# to summarize the results, construct a dataframe with the following columns:\n",
    "# neuron_id, stim_duration, Ra, cm, g_pas, injected_current, stim_start, max_decay_ratio, peak_time, width_change, min_max_distance, max_distance\n",
    "summary_df = pd.DataFrame(columns=['neuron_id', 'stim_duration', 'Ra', 'cm', 'g_pas', 'injected_current', 'stim_start', 'max_decay_ratio', 'peak_time', 'width_change', 'min_max_distance', 'max_distance'])\n",
    "for i, pickle_file in enumerate(pickle_list):\n",
    "    # get the neuron_id from the pickle_file by regular expression\n",
    "    neuron_id = re.search(r'LC14_(\\d+)', pickle_file).group(1)\n",
    "    neuron_id = int(neuron_id)\n",
    "    df_entry = {'neuron_id': neuron_id}\n",
    "    with open(pickle_file, 'rb') as f:\n",
    "        data = pickle.load(f)\n",
    "        simu_config = data['simu_config']\n",
    "        df_entry.update(simu_config)\n",
    "    df_entry.update(get_decay_delay(pickle_file))\n",
    "    # for all the fields in summary_df, if the value is in df_entry, then add it to the summary_df\n",
    "    for key, value in df_entry.items():\n",
    "        if key in summary_df.columns:\n",
    "            summary_df.loc[i, key] = value"
   ]
  },
  {
   "cell_type": "code",
   "execution_count": null,
   "metadata": {},
   "outputs": [],
   "source": [
    "sample_v_traces(pickle_list[0], max_trace_overlay=True, trace_idx=0.5, xlim=(0, 200))\n",
    "pickle_list[0]"
   ]
  },
  {
   "cell_type": "code",
   "execution_count": 6,
   "metadata": {},
   "outputs": [],
   "source": [
    "# drop Ra, cm, g_pas, injected_current, stim_start from the summary_df\n",
    "summary_df_reduced = summary_df.drop(columns=['Ra', 'cm', 'g_pas', 'injected_current', 'stim_start'])\n",
    "# group by neuron_id and stim_duration, and aggregate the rest to a list\n",
    "summary_df_reduced = summary_df_reduced.groupby(['neuron_id', 'stim_duration']).agg(list).reset_index()"
   ]
  },
  {
   "cell_type": "code",
   "execution_count": null,
   "metadata": {},
   "outputs": [],
   "source": [
    "# bar plot of the summary_df, x axis is stim_duration, y axis is max_decay_ratio\n",
    "plot_bars_with_scatter(df=summary_df_reduced, x_col='stim_duration', y_col='max_decay_ratio')\n"
   ]
  },
  {
   "cell_type": "markdown",
   "metadata": {},
   "source": [
    "## Effects of electrical properties "
   ]
  },
  {
   "cell_type": "code",
   "execution_count": 10,
   "metadata": {},
   "outputs": [],
   "source": [
    "pickle_list = glob.glob('test_dataset/RC_LC14_21001_results_injection*.pkl')\n",
    "# to summarize the results, construct a dataframe with the following columns:\n",
    "# neuron_id, stim_duration, Ra, cm, g_pas, injected_current, stim_start, max_decay_ratio, peak_time, width_change, min_max_distance, max_distance\n",
    "summary_df = pd.DataFrame(columns=['neuron_id', 'stim_duration', 'Ra', 'cm', 'g_pas', 'injected_current', 'stim_start', 'max_decay_ratio', 'peak_time', 'width_change', 'min_max_distance', 'max_distance'])\n",
    "for i, pickle_file in enumerate(pickle_list):\n",
    "    # get the neuron_id from the pickle_file by regular expression\n",
    "    neuron_id = re.search(r'LC14_(\\d+)', pickle_file).group(1)\n",
    "    neuron_id = int(neuron_id)\n",
    "    df_entry = {'neuron_id': neuron_id}\n",
    "    with open(pickle_file, 'rb') as f:\n",
    "        data = pickle.load(f)\n",
    "        simu_config = data['simu_config']\n",
    "        df_entry.update(simu_config)\n",
    "    df_entry.update(get_decay_delay(pickle_file))\n",
    "    # for all the fields in summary_df, if the value is in df_entry, then add it to the summary_df\n",
    "    for key, value in df_entry.items():\n",
    "        if key in summary_df.columns:\n",
    "            summary_df.loc[i, key] = value"
   ]
  },
  {
   "cell_type": "code",
   "execution_count": 18,
   "metadata": {},
   "outputs": [],
   "source": [
    "# apply the lambda x: np.log(x) to the max_decay_ratio column\n",
    "summary_df['max_decay_ratio'] = summary_df['max_decay_ratio'].apply(lambda x: np.log(x))\n",
    "\n",
    "# apply a function to the max_decay_ratio column, and the function is multiplying the value by the Ra and g_pas columns\n",
    "summary_df['character_length'] = 1. / (summary_df['Ra'] * summary_df['g_pas'])\n",
    "summary_df['character_length'] = summary_df['character_length'].apply(lambda x: np.sqrt(x))\n",
    "\n",
    "summary_df['normlized_max_decay_ratio'] = summary_df['max_decay_ratio'] * summary_df['character_length']"
   ]
  },
  {
   "cell_type": "code",
   "execution_count": 19,
   "metadata": {},
   "outputs": [],
   "source": [
    "# drop Ra, cm, g_pas, injected_current, stim_start from the summary_df\n",
    "summary_df_reduced = summary_df.drop(columns=['stim_duration', 'injected_current', 'stim_start'])\n",
    "# group by neuron_id and stim_duration, and aggregate the rest to a list\n",
    "#summary_df_reduced = summary_df_reduced.groupby(['neuron_id', 'Ra', 'cm', 'g_pas']).agg(list).reset_index()\n",
    "summary_df_reduced = summary_df_reduced.groupby(['neuron_id', 'character_length', 'cm']).agg(list).reset_index()"
   ]
  },
  {
   "cell_type": "code",
   "execution_count": null,
   "metadata": {},
   "outputs": [],
   "source": [
    "plot_bars_with_scatter(df=summary_df_reduced, x_col='character_length', y_col='normlized_max_decay_ratio')\n"
   ]
  },
  {
   "cell_type": "code",
   "execution_count": null,
   "metadata": {},
   "outputs": [],
   "source": []
  }
 ],
 "metadata": {
  "kernelspec": {
   "display_name": "flybrain",
   "language": "python",
   "name": "python3"
  },
  "language_info": {
   "codemirror_mode": {
    "name": "ipython",
    "version": 3
   },
   "file_extension": ".py",
   "mimetype": "text/x-python",
   "name": "python",
   "nbconvert_exporter": "python",
   "pygments_lexer": "ipython3",
   "version": "3.10.9"
  }
 },
 "nbformat": 4,
 "nbformat_minor": 2
}
